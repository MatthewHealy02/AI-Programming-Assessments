{
 "cells": [
  {
   "cell_type": "markdown",
   "id": "ebae807a-fc42-482c-bbfd-70c13fc7f999",
   "metadata": {},
   "source": [
    "QUESTION 1"
   ]
  },
  {
   "cell_type": "code",
   "execution_count": 1,
   "id": "5b2cdb6b-f967-45f1-99d2-11d0d8575ddf",
   "metadata": {},
   "outputs": [],
   "source": [
    "# package imports"
   ]
  },
  {
   "cell_type": "code",
   "execution_count": 2,
   "id": "315a460a-198d-438a-9efb-c551324fe41b",
   "metadata": {},
   "outputs": [],
   "source": [
    "import csv"
   ]
  },
  {
   "cell_type": "code",
   "execution_count": 3,
   "id": "dafeb059-dbab-42c1-a812-78602f708450",
   "metadata": {},
   "outputs": [],
   "source": [
    "# function"
   ]
  },
  {
   "cell_type": "code",
   "execution_count": 5,
   "id": "69fb16f1-0628-4627-80f4-ddd5c03302ed",
   "metadata": {},
   "outputs": [
    {
     "name": "stdout",
     "output_type": "stream",
     "text": [
      "value:Iris-setosa is not of type:numeric\n",
      "the categorical columns consist of ['Species']\n",
      "the numeric columns consist of ['SepalLengthCm', 'SepalWidthCm', 'PetalLengthCm', 'PetalWidthCm']\n"
     ]
    }
   ],
   "source": [
    "df_iris = 'Iris'\n",
    "\n",
    "def create_dict(df): \n",
    "    with open(f'{df}.csv', 'r') as csvfile:\n",
    "        \n",
    "        csv_reader = csv.DictReader(csvfile)\n",
    "\n",
    "        data_list = next(csv_reader)\n",
    "\n",
    "    return data_list\n",
    "\n",
    "def categorical_numeric(df):\n",
    "    data_list = create_dict(df)\n",
    "\n",
    "    categorical_columns = []\n",
    "    numeric_columns = []\n",
    "    \n",
    "    for i in data_list.values():\n",
    "        try:\n",
    "            float(i)\n",
    "            numeric_columns.append(list(data_list.keys())[list(data_list.values()).index(i)])\n",
    "        except ValueError as num:\n",
    "            num = 'numeric'\n",
    "            print(f'value:{i} is not of type:{num}')\n",
    "            str(i)\n",
    "            categorical_columns.append(list(data_list.keys())[list(data_list.values()).index(i)])\n",
    "        \n",
    "    ans = f'''the categorical columns consist of {categorical_columns}\n",
    "the numeric columns consist of {numeric_columns}'''\n",
    "    \n",
    "    print(ans)\n",
    "\n",
    "answer = categorical_numeric(df_iris)\n",
    "\n",
    "answer"
   ]
  },
  {
   "cell_type": "markdown",
   "id": "97244ea4-1afd-4d9b-9f63-a577132c4222",
   "metadata": {},
   "source": [
    "QUESTION 2"
   ]
  },
  {
   "cell_type": "code",
   "execution_count": null,
   "id": "cbd28257-1925-495d-a9d0-3ee96d5c4747",
   "metadata": {},
   "outputs": [],
   "source": [
    "# package imports"
   ]
  },
  {
   "cell_type": "code",
   "execution_count": null,
   "id": "37862b14-1c1e-431d-a4b3-28ede03bcb5f",
   "metadata": {},
   "outputs": [],
   "source": [
    "import numpy as np \n",
    "import pandas as pd"
   ]
  },
  {
   "cell_type": "code",
   "execution_count": null,
   "id": "20de8183-3f7f-4c69-a3b6-432a05e52a45",
   "metadata": {},
   "outputs": [],
   "source": [
    "# variables"
   ]
  },
  {
   "cell_type": "code",
   "execution_count": null,
   "id": "0523992d-e3cd-4ce2-bec8-360b47565251",
   "metadata": {},
   "outputs": [],
   "source": [
    "# pandas function"
   ]
  },
  {
   "cell_type": "code",
   "execution_count": null,
   "id": "1e6d6024-3a60-4b18-9c69-275a5fecdc54",
   "metadata": {},
   "outputs": [],
   "source": []
  },
  {
   "cell_type": "code",
   "execution_count": null,
   "id": "7c447e0a-a4aa-491b-b70a-ba603adbae1f",
   "metadata": {},
   "outputs": [],
   "source": [
    "# testing / sanity checks"
   ]
  },
  {
   "cell_type": "code",
   "execution_count": null,
   "id": "31fe0a46-8410-4d5c-b2ae-ffd8e6edeba3",
   "metadata": {},
   "outputs": [],
   "source": []
  },
  {
   "cell_type": "markdown",
   "id": "e33b514f-0c1b-4273-a5bd-788daab228bf",
   "metadata": {},
   "source": [
    "QUESTION 3"
   ]
  },
  {
   "cell_type": "code",
   "execution_count": null,
   "id": "ee920670-83ad-4c61-ad28-b7b11f5bfd91",
   "metadata": {},
   "outputs": [],
   "source": [
    "# package imports"
   ]
  },
  {
   "cell_type": "code",
   "execution_count": null,
   "id": "53b87683-abd6-47ef-a716-82e3c390c4b8",
   "metadata": {},
   "outputs": [],
   "source": [
    "import numpy as np"
   ]
  },
  {
   "cell_type": "code",
   "execution_count": null,
   "id": "42f4294c-b9e5-4095-963b-ce5c41c864b4",
   "metadata": {},
   "outputs": [],
   "source": [
    "# arrays / lists"
   ]
  },
  {
   "cell_type": "code",
   "execution_count": null,
   "id": "9ed8f3c7-4804-4811-aca8-73fc76ee70a2",
   "metadata": {},
   "outputs": [],
   "source": [
    "# generate a random NumPy array with 1000 elements\n",
    "\n",
    "numpy_array = np.random.rand(1000) \n",
    "\n",
    "# generate a new array containing the original values of numpy_array\n",
    "# divided into sub-arrays of 5\n",
    "\n",
    "divided_array = np.split(numpy_array, 200)\n",
    "\n",
    "# generate an empty list to which the mean values of each sub-array of numpy_array\n",
    "# will be appended\n",
    "\n",
    "datamean = []"
   ]
  },
  {
   "cell_type": "code",
   "execution_count": null,
   "id": "c2300a65-16a4-4dd6-af65-b1740ee1f47a",
   "metadata": {},
   "outputs": [],
   "source": [
    "# functions"
   ]
  },
  {
   "cell_type": "code",
   "execution_count": null,
   "id": "f6ffc67b-e410-4d33-a69f-6887f3f77cda",
   "metadata": {},
   "outputs": [],
   "source": [
    "# a function to find the mean of a given array\n",
    "\n",
    "def mean(array):\n",
    "    \n",
    "    mean = sum(array) / len(array) \n",
    "\n",
    "    return(mean)  # after which the mean value is then returned up the chain and stored\n",
    "\n",
    "# a function to store the mean values of each nested array (divided_array) within the parent array (numpy_array)\n",
    "\n",
    "def nested_array_mean_values(parent_array):\n",
    "    \n",
    "    for nested_array in parent_array:      # a for loop iterates through the parent array \n",
    "        nested_array = mean(nested_array)  # and converts each nested array to its given mean value\n",
    "        datamean.append(nested_array)      # which is stored in the datamean list\n",
    "        \n",
    "    return datamean\n",
    "\n",
    "# a function to find the minimum value within a given array\n",
    "\n",
    "def minimum(array):\n",
    "    \n",
    "    minimum = np.inf  # the minimum variable defaults to the highest possible value\n",
    "    \n",
    "    for i in range(0, len(array)):  # a for loop iterates through the array,\n",
    "        if array[i] < minimum:      # if the current iteration value is less than that of the current minimum variable\n",
    "            minimum = array[i]      # the previous minimum variable is replaced with the current iteration value\n",
    "    \n",
    "    ans = f'''The minimum value is: {minimum}'''\n",
    "    \n",
    "    print(ans)       # minimum value is printed out to the script\n",
    "    return minimum   # and returned up the chain to be stored\n",
    "\n",
    "# a function to find the maximum value within a given array\n",
    "\n",
    "def maximum(array):\n",
    "\n",
    "    maximum = -np.inf   # functions the same as the minimum(array) function,\n",
    "    \n",
    "    for i in range(0, len(array)):  # only the maximum variable defaults to the lowest possible value\n",
    "        if array[i] > maximum:      # and the for loop checks if the current iteration value is greater\n",
    "            maximum = array[i]      # than the current maximum variable value\n",
    "    \n",
    "    ans = f'''The maximum value is: {maximum}'''  \n",
    "    \n",
    "    print(ans)       # the for loop will finish with the maximum variable storing the highest value\n",
    "    return maximum   # within the given array"
   ]
  },
  {
   "cell_type": "code",
   "execution_count": null,
   "id": "35df43fe-b26e-4e90-ac57-6f48bc018ba8",
   "metadata": {},
   "outputs": [],
   "source": [
    "# testing / sanity checks"
   ]
  },
  {
   "cell_type": "code",
   "execution_count": null,
   "id": "903fa766-b058-4c5d-972c-f75de3ac5252",
   "metadata": {},
   "outputs": [],
   "source": [
    "len(numpy_array)"
   ]
  },
  {
   "cell_type": "code",
   "execution_count": null,
   "id": "da500726-b3ce-41c2-99d0-2108e705286a",
   "metadata": {},
   "outputs": [],
   "source": [
    "len(divided_array)"
   ]
  },
  {
   "cell_type": "code",
   "execution_count": null,
   "id": "5dbb176b-1364-461d-9e93-ef9e987413af",
   "metadata": {},
   "outputs": [],
   "source": [
    "len(datamean)"
   ]
  },
  {
   "cell_type": "code",
   "execution_count": null,
   "id": "96300538-590a-4906-bfd1-c57e447a8944",
   "metadata": {},
   "outputs": [],
   "source": [
    "nested_array_mean_values(divided_array)\n",
    "\n",
    "len(datamean)"
   ]
  },
  {
   "cell_type": "code",
   "execution_count": null,
   "id": "d384ef0b-c801-4f6c-a7ba-390b08ccb249",
   "metadata": {},
   "outputs": [],
   "source": [
    "len(datamean)"
   ]
  },
  {
   "cell_type": "code",
   "execution_count": null,
   "id": "3d3c2d0c-dff1-4d19-abd7-f043b37c6a40",
   "metadata": {},
   "outputs": [],
   "source": [
    "datamean_minimum = minimum(datamean)"
   ]
  },
  {
   "cell_type": "code",
   "execution_count": null,
   "id": "3a31eae5-b7ef-4712-8082-1849f141693d",
   "metadata": {},
   "outputs": [],
   "source": [
    "datamean_maximum = maximum(datamean)"
   ]
  },
  {
   "cell_type": "code",
   "execution_count": null,
   "id": "54e4c96b-72cc-4337-8bbb-cc1b4f2ffddc",
   "metadata": {},
   "outputs": [],
   "source": [
    "print(datamean_minimum)\n",
    "print(datamean_maximum)"
   ]
  },
  {
   "cell_type": "markdown",
   "id": "958e323f-8d72-4b93-8a8d-db2cfa1302b6",
   "metadata": {},
   "source": [
    "QUESTION 4"
   ]
  },
  {
   "cell_type": "code",
   "execution_count": null,
   "id": "57addbab-2920-4478-a00c-e22f3a2043ef",
   "metadata": {},
   "outputs": [],
   "source": []
  },
  {
   "cell_type": "markdown",
   "id": "80175739-c1d3-4488-b2cd-1d14c4484b68",
   "metadata": {},
   "source": [
    "QUESTION 5"
   ]
  },
  {
   "cell_type": "code",
   "execution_count": null,
   "id": "13d00ab7-b7c3-4360-8c77-5ee7a5fb681e",
   "metadata": {},
   "outputs": [],
   "source": [
    "# imports"
   ]
  },
  {
   "cell_type": "code",
   "execution_count": null,
   "id": "a2b0e6d8-5482-40be-a1d9-f81a07b764b6",
   "metadata": {},
   "outputs": [],
   "source": [
    "import pandas as pd\n",
    "import numpy as np\n",
    "import sklearn\n",
    "from sklearn import datasets \n",
    "import matplotlib.pyplot as plt"
   ]
  },
  {
   "cell_type": "code",
   "execution_count": null,
   "id": "f3414b2f-adc4-417b-90a9-ad3593527813",
   "metadata": {},
   "outputs": [],
   "source": [
    "# data loading / duplicate removal /  handle missing data / data reading"
   ]
  },
  {
   "cell_type": "code",
   "execution_count": null,
   "id": "10d85312-c039-4ebf-a39e-4c5a1f7abdb4",
   "metadata": {},
   "outputs": [],
   "source": [
    "iris = datasets.load_iris()\n",
    "\n",
    "\n",
    "df_iris = pd.DataFrame(iris.data, columns = iris.feature_names)\n",
    "\n",
    "df_iris = pd.DataFrame(data = np.c_[iris['data'], iris['target']],\n",
    "                  columns = iris['feature_names'] + ['target']).astype({'target': int}) \\\n",
    "       .assign(species = lambda x: x['target'].map(dict(enumerate(iris['target_names']))))\n",
    "\n",
    "df_iris.drop_duplicates()\n",
    "\n",
    "df_iris = df_iris.drop('species', axis = 'columns')\n",
    "\n",
    "df_iris.rename(columns = {'target': 'species'}, inplace = True)\n",
    "\n",
    "missing = df_iris.isnull()\n",
    "\n",
    "missing"
   ]
  },
  {
   "cell_type": "code",
   "execution_count": null,
   "id": "e20bbc38-3176-4693-a2ad-94319fba4fbf",
   "metadata": {},
   "outputs": [],
   "source": [
    "df_iris"
   ]
  },
  {
   "cell_type": "code",
   "execution_count": null,
   "id": "22fbf097-7048-4116-a325-e1260e9f1ac0",
   "metadata": {},
   "outputs": [],
   "source": [
    "df_iris.head(10)"
   ]
  },
  {
   "cell_type": "code",
   "execution_count": null,
   "id": "941ac877-0501-4a97-9727-b47958e5d5a4",
   "metadata": {},
   "outputs": [],
   "source": [
    "df_iris.tail(10)"
   ]
  },
  {
   "cell_type": "code",
   "execution_count": null,
   "id": "d1ad259f-3edd-4c06-9b4c-8cbd66356c9a",
   "metadata": {},
   "outputs": [],
   "source": [
    "# data summary"
   ]
  },
  {
   "cell_type": "code",
   "execution_count": null,
   "id": "70b84b5a-bd62-4a36-9be6-1b514ed4bd73",
   "metadata": {},
   "outputs": [],
   "source": [
    "df_iris.info()"
   ]
  },
  {
   "cell_type": "code",
   "execution_count": null,
   "id": "f8b3680b-f470-4349-a292-4e108281fd89",
   "metadata": {},
   "outputs": [],
   "source": [
    "# general important values"
   ]
  },
  {
   "cell_type": "code",
   "execution_count": null,
   "id": "37d2c2b2-6ec7-474a-ab79-db0b0aeca068",
   "metadata": {},
   "outputs": [],
   "source": [
    "df_iris.describe()"
   ]
  },
  {
   "cell_type": "code",
   "execution_count": null,
   "id": "063e58b7-1f3b-41fe-a4c2-da021c68e37e",
   "metadata": {},
   "outputs": [],
   "source": [
    "# check for unique values and generate table to display findings"
   ]
  },
  {
   "cell_type": "code",
   "execution_count": null,
   "id": "17feadb8-3e8a-46a8-af1c-9d246bbc61ed",
   "metadata": {},
   "outputs": [],
   "source": [
    "unique = df_iris.nunique()\n",
    "\n",
    "unique"
   ]
  },
  {
   "cell_type": "code",
   "execution_count": null,
   "id": "1c11f6b2-e464-40f9-aa91-8d14019b3dbf",
   "metadata": {},
   "outputs": [],
   "source": [
    "# a function to sort the dataset based on desired row in descending or ascending order"
   ]
  },
  {
   "cell_type": "code",
   "execution_count": null,
   "id": "194e84ea-f191-4d14-bc2d-1d8fbe0e5920",
   "metadata": {},
   "outputs": [],
   "source": [
    "def sort_df(df, row, ascending_TF):\n",
    "    df = df.sort_values(by = f'{row}', ascending = bool(f'{ascending_TF}'))\n",
    "    return df\n",
    "\n",
    "print(sort_df(df_iris, 'species', True)"
   ]
  },
  {
   "cell_type": "code",
   "execution_count": null,
   "id": "d286d1ff-ba6c-42e8-9d3b-9f26d8e1010d",
   "metadata": {},
   "outputs": [],
   "source": [
    "# data visualisation"
   ]
  },
  {
   "cell_type": "code",
   "execution_count": null,
   "id": "81b97fa8-4c2a-4cda-9977-5e173bc1ab12",
   "metadata": {},
   "outputs": [],
   "source": []
  },
  {
   "cell_type": "code",
   "execution_count": null,
   "id": "22c73b0a-c1fd-4f9c-8915-1d11d8334e02",
   "metadata": {},
   "outputs": [],
   "source": [
    "# data grouping"
   ]
  },
  {
   "cell_type": "code",
   "execution_count": null,
   "id": "955bc004-ff32-4ec9-a41c-03cf5ba8bac3",
   "metadata": {},
   "outputs": [],
   "source": []
  }
 ],
 "metadata": {
  "kernelspec": {
   "display_name": "Python 3 (ipykernel)",
   "language": "python",
   "name": "python3"
  },
  "language_info": {
   "codemirror_mode": {
    "name": "ipython",
    "version": 3
   },
   "file_extension": ".py",
   "mimetype": "text/x-python",
   "name": "python",
   "nbconvert_exporter": "python",
   "pygments_lexer": "ipython3",
   "version": "3.12.4"
  }
 },
 "nbformat": 4,
 "nbformat_minor": 5
}
